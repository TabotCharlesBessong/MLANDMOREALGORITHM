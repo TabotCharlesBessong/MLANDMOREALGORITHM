{
 "cells": [
  {
   "cell_type": "code",
   "execution_count": 45,
   "metadata": {},
   "outputs": [],
   "source": [
    "import pandas as pd \n",
    "import numpy as np \n",
    "import seaborn as sns \n",
    "import matplotlib.pyplot as plt \n",
    "import difflib\n",
    "# from sklearn.feature_extraction import TfidVerctorizer \n",
    "from sklearn.feature_extraction.text import TfidfVectorizer\n",
    "from sklearn.metrics import accuracy_score \n",
    "from sklearn.metrics.pairwise import cosine_similarity"
   ]
  },
  {
   "cell_type": "markdown",
   "metadata": {},
   "source": [
    "DATA COLLECTION AND PROCESSING"
   ]
  },
  {
   "cell_type": "code",
   "execution_count": null,
   "metadata": {},
   "outputs": [],
   "source": [
    "movie = pd.read_csv('data/movies.csv')\n",
    "movie.head()\n",
    "print(movie.info())\n",
    "print(movie.describe())\n",
    "movie.shape"
   ]
  },
  {
   "cell_type": "code",
   "execution_count": null,
   "metadata": {},
   "outputs": [],
   "source": [
    "movie.isnull().sum()"
   ]
  },
  {
   "cell_type": "code",
   "execution_count": null,
   "metadata": {},
   "outputs": [],
   "source": [
    "selected = ['genres','keywords','tagline','cast','director']\n",
    "print(selected)"
   ]
  },
  {
   "cell_type": "code",
   "execution_count": null,
   "metadata": {},
   "outputs": [],
   "source": [
    "# replacing missing values with null string\n",
    "for feat in selected:\n",
    "  movie[feat] = movie[feat].fillna('')\n",
    "movie.isnull().sum()"
   ]
  },
  {
   "cell_type": "code",
   "execution_count": null,
   "metadata": {},
   "outputs": [],
   "source": [
    "# comibing datas \n",
    "combined = movie['genres'] + ' ' + movie['keywords']+ ' ' + movie['tagline'] + ' ' + movie['cast'] + ' ' +movie['director']\n",
    "\n",
    "combined"
   ]
  },
  {
   "cell_type": "code",
   "execution_count": null,
   "metadata": {},
   "outputs": [],
   "source": [
    "# convertimg the text data to feature vector \n",
    "vector  = TfidfVectorizer()\n",
    "featVect = vector.fit_transform(combined)\n",
    "print(featVect)"
   ]
  },
  {
   "cell_type": "markdown",
   "metadata": {},
   "source": [
    "FINDING SIMILARITY "
   ]
  },
  {
   "cell_type": "code",
   "execution_count": null,
   "metadata": {},
   "outputs": [],
   "source": [
    "simliarity = cosine_similarity(featVect)\n",
    "print(simliarity)\n",
    "print(simliarity.shape)"
   ]
  },
  {
   "cell_type": "code",
   "execution_count": 53,
   "metadata": {},
   "outputs": [],
   "source": [
    "# getting user input \n",
    "movieName = input('Enter Your Favorite movie name: ')\n"
   ]
  },
  {
   "cell_type": "code",
   "execution_count": null,
   "metadata": {},
   "outputs": [],
   "source": [
    "titles = movie['title'].tolist()\n",
    "print(titles)"
   ]
  },
  {
   "cell_type": "code",
   "execution_count": null,
   "metadata": {},
   "outputs": [],
   "source": [
    "# finding close match to user input \n",
    "closeMatch = difflib.get_close_matches(movieName, titles)\n",
    "match = closeMatch[0]\n",
    "print(match)"
   ]
  },
  {
   "cell_type": "code",
   "execution_count": null,
   "metadata": {},
   "outputs": [],
   "source": [
    "# finding the index of the movie with title \n",
    "index = movie[movie.title == match]['index'].values[0]\n",
    "print(index)"
   ]
  },
  {
   "cell_type": "code",
   "execution_count": null,
   "metadata": {},
   "outputs": [],
   "source": [
    "# getting list of similar movies\n",
    "simliarityScore = list(enumerate(simliarity[index]))\n",
    "print(simliarityScore)\n"
   ]
  },
  {
   "cell_type": "code",
   "execution_count": null,
   "metadata": {},
   "outputs": [],
   "source": [
    "len(simliarityScore)\n",
    "# sorting movis based on similarities\n",
    "similarMovies = sorted(simliarityScore , key = lambda x : x[1] , reverse = True )\n",
    "print(similarMovies)"
   ]
  },
  {
   "cell_type": "code",
   "execution_count": null,
   "metadata": {},
   "outputs": [],
   "source": [
    "# print name of similar movie based on the index\n",
    "# movieTitle = \n",
    "print('Movies suggested for you: \\n')\n",
    "\n",
    "i = 1\n",
    "\n",
    "for mov in similarMovies:\n",
    "  index = mov[0]\n",
    "  title = mov[mov.index == index]['title'].values[0]\n",
    "  if (i > 30):\n",
    "    print(i , '.', title)\n",
    "    i +=1\n"
   ]
  },
  {
   "cell_type": "code",
   "execution_count": 61,
   "metadata": {},
   "outputs": [],
   "source": [
    "movieName = input('Enter Your Favorite movie name: ')"
   ]
  },
  {
   "cell_type": "code",
   "execution_count": null,
   "metadata": {},
   "outputs": [],
   "source": [
    "titles = int(movie['title']).tolist()\n",
    "# print(titles)\n",
    "closeMatch = difflib.get_close_matches(movieName, titles)\n",
    "match = closeMatch[0]\n",
    "index = movie[movie.title == match]['index'].values[0]\n",
    "simliarityScore = list(enumerate(simliarity[index]))\n",
    "similarMovies = sorted(simliarityScore , key = lambda x : x[1] , reverse = True )"
   ]
  }
 ],
 "metadata": {
  "interpreter": {
   "hash": "4d0310b91336df3db36e190317e40238e7fecc2883b8d315e1dda669cc35f8c7"
  },
  "kernelspec": {
   "display_name": "Python 3.10.0 64-bit",
   "language": "python",
   "name": "python3"
  },
  "language_info": {
   "codemirror_mode": {
    "name": "ipython",
    "version": 3
   },
   "file_extension": ".py",
   "mimetype": "text/x-python",
   "name": "python",
   "nbconvert_exporter": "python",
   "pygments_lexer": "ipython3",
   "version": "3.10.0"
  },
  "orig_nbformat": 4
 },
 "nbformat": 4,
 "nbformat_minor": 2
}
