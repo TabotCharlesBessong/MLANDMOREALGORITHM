{
 "cells": [
  {
   "cell_type": "code",
   "execution_count": 53,
   "metadata": {},
   "outputs": [],
   "source": [
    "import pandas as pd \n",
    "import numpy as np \n",
    "import seaborn as sns \n",
    "import matplotlib.pyplot as plt \n",
    "from sklearn.preprocessing import LabelEncoder\n",
    "from xgboost import XGBRegressor\n",
    "from sklearn import metrics\n",
    "from sklearn.model_selection import train_test_split"
   ]
  },
  {
   "cell_type": "code",
   "execution_count": null,
   "metadata": {},
   "outputs": [],
   "source": [
    "sales = pd.read_csv('./data/Train.csv')\n",
    "sales.head()\n",
    "sales.shape\n",
    "sales.isnull().sum()"
   ]
  },
  {
   "cell_type": "code",
   "execution_count": null,
   "metadata": {},
   "outputs": [],
   "source": [
    "print(sales.info())\n",
    "print(sales.describe())\n",
    "sales.shape"
   ]
  },
  {
   "cell_type": "code",
   "execution_count": null,
   "metadata": {},
   "outputs": [],
   "source": [
    "sales.isna().sum()\n",
    "sales.head()\n",
    "sales.shape"
   ]
  },
  {
   "cell_type": "markdown",
   "metadata": {},
   "source": [
    "CATEGORICSAL FEATURES"
   ]
  },
  {
   "cell_type": "code",
   "execution_count": 9,
   "metadata": {},
   "outputs": [
    {
     "data": {
      "text/plain": [
       "12.857645184135976"
      ]
     },
     "execution_count": 9,
     "metadata": {},
     "output_type": "execute_result"
    }
   ],
   "source": [
    "# handling missing values \n",
    "sales['Item_Weight'].mean()"
   ]
  },
  {
   "cell_type": "code",
   "execution_count": null,
   "metadata": {},
   "outputs": [],
   "source": [
    "# filling missing values with mean \n",
    "sales['Item_Weight'].fillna(sales['Item_Weight'].mean() , inplace=True)\n",
    "sales.isnull().sum()"
   ]
  },
  {
   "cell_type": "code",
   "execution_count": 17,
   "metadata": {},
   "outputs": [],
   "source": [
    "mode = sales.pivot_table(values='Outlet_Size', columns='Outlet_Type',  aggfunc=(lambda x : x.mode()[0] ) )"
   ]
  },
  {
   "cell_type": "code",
   "execution_count": null,
   "metadata": {},
   "outputs": [],
   "source": [
    "mode"
   ]
  },
  {
   "cell_type": "code",
   "execution_count": null,
   "metadata": {},
   "outputs": [],
   "source": [
    "missingValues = sales['Outlet_Size'].isnull()\n",
    "missingValues"
   ]
  },
  {
   "cell_type": "code",
   "execution_count": null,
   "metadata": {},
   "outputs": [],
   "source": [
    "sales.loc[missingValues , 'Outlet_Size'] = sales.loc[missingValues , 'Outlet_Type'].apply(lambda x : mode)\n",
    "sales.isnull().sum()"
   ]
  },
  {
   "cell_type": "markdown",
   "metadata": {},
   "source": [
    "NUMERICAL FEATURES"
   ]
  },
  {
   "cell_type": "code",
   "execution_count": null,
   "metadata": {},
   "outputs": [],
   "source": [
    "sns.set()\n",
    "# plot for item weight distributin\n",
    "plt.figure(figsize=(8,8))\n",
    "sns.displot(sales['Item_Weight'])\n",
    "plt.show()"
   ]
  },
  {
   "cell_type": "code",
   "execution_count": null,
   "metadata": {},
   "outputs": [],
   "source": [
    "sns.set()\n",
    "# plot for item weight distributin\n",
    "plt.figure(figsize=(8,8))\n",
    "sns.displot(sales['Item_Visibility'])\n",
    "plt.show()"
   ]
  },
  {
   "cell_type": "code",
   "execution_count": null,
   "metadata": {},
   "outputs": [],
   "source": [
    "sns.set()\n",
    "# plot for item weight distributin\n",
    "plt.figure(figsize=(8,8))\n",
    "sns.displot(sales['Item_MRP'])\n",
    "plt.show()"
   ]
  },
  {
   "cell_type": "code",
   "execution_count": null,
   "metadata": {},
   "outputs": [],
   "source": [
    "sns.set()\n",
    "# plot for item weight distributin\n",
    "plt.figure(figsize=(8,8))\n",
    "sns.displot(sales['Outlet_Establishment_Year'])\n",
    "plt.show()"
   ]
  },
  {
   "cell_type": "code",
   "execution_count": null,
   "metadata": {},
   "outputs": [],
   "source": [
    "sns.set()\n",
    "# plot for item weight distributin\n",
    "plt.figure(figsize=(8,8))\n",
    "sns.displot(sales['Item_Outlet_Sales'])\n",
    "plt.show()"
   ]
  },
  {
   "cell_type": "code",
   "execution_count": null,
   "metadata": {},
   "outputs": [],
   "source": [
    "# count plot for all categorical columns \n",
    "plt.figure(figsize=(8,8))\n",
    "sns.countplot(x='Outlet_Establishment_Year',data=sales)\n",
    "plt.show()"
   ]
  },
  {
   "cell_type": "code",
   "execution_count": null,
   "metadata": {},
   "outputs": [],
   "source": [
    "# count plot for the establishment year\n",
    "plt.figure(figsize=(8,8))\n",
    "sns.countplot(x='Item_Fat_Content',data=sales)\n",
    "plt.show()"
   ]
  },
  {
   "cell_type": "code",
   "execution_count": null,
   "metadata": {},
   "outputs": [],
   "source": [
    "# count plot for the establishment year\n",
    "plt.figure(figsize=(10,8))\n",
    "sns.countplot(x='Item_Type',data=sales)\n",
    "plt.show()"
   ]
  },
  {
   "cell_type": "code",
   "execution_count": null,
   "metadata": {},
   "outputs": [],
   "source": [
    "# count plot for the establishment year\n",
    "plt.figure(figsize=(8,8))\n",
    "sns.countplot(x='Outlet_Size',data=sales)\n",
    "plt.show()"
   ]
  },
  {
   "cell_type": "markdown",
   "metadata": {},
   "source": [
    "DATA PREPROCESSING"
   ]
  },
  {
   "cell_type": "code",
   "execution_count": null,
   "metadata": {},
   "outputs": [],
   "source": [
    "sales.head()\n",
    "sales['Item_Fat_Content'].value_counts()"
   ]
  },
  {
   "cell_type": "code",
   "execution_count": 45,
   "metadata": {},
   "outputs": [],
   "source": [
    "sales['Item_Fat_Content'].value_counts()\n",
    "sales.replace({'Item_Fat_Content':{'low fat':'Low Fat' , 'LF':'Low Fat', 'reg':'Regular'}} , inplace=True)"
   ]
  },
  {
   "cell_type": "code",
   "execution_count": null,
   "metadata": {},
   "outputs": [],
   "source": [
    "sales['Item_Identifier'].value_counts()"
   ]
  },
  {
   "cell_type": "markdown",
   "metadata": {},
   "source": [
    "LABEL ENCODING"
   ]
  },
  {
   "cell_type": "code",
   "execution_count": 49,
   "metadata": {},
   "outputs": [],
   "source": [
    "encoder = LabelEncoder()\n",
    "sales['Item_Identifier'] = encoder.fit_transform(sales['Item_Identifier'])\n",
    "\n",
    "sales['Item_Fat_Content'] = encoder.fit_transform(sales['Item_Fat_Content'])\n",
    "\n",
    "sales['Item_Type'] = encoder.fit_transform(sales['Item_Type'])\n",
    "\n",
    "sales['Outlet_Identifier'] = encoder.fit_transform(sales['Outlet_Identifier'])\n",
    "\n",
    "sales['Outlet_Location_Type'] = encoder.fit_transform(sales['Outlet_Location_Type'])\n",
    "\n",
    "sales['Item_Identifier'] = encoder.fit_transform(sales['Item_Identifier'])\n",
    "\n",
    "sales['Outlet_Type'] = encoder.fit_transform(sales['Outlet_Type'])"
   ]
  },
  {
   "cell_type": "markdown",
   "metadata": {},
   "source": [
    "SPLITING , TRAINIG AND TESTING "
   ]
  },
  {
   "cell_type": "code",
   "execution_count": null,
   "metadata": {},
   "outputs": [],
   "source": [
    "x = sales.drop(columns=['Item_Outlet_Sales','Outlet_Size'], axis=1)\n",
    "y = sales['Item_Outlet_Sales']\n",
    "print(x,y)"
   ]
  },
  {
   "cell_type": "code",
   "execution_count": null,
   "metadata": {},
   "outputs": [],
   "source": [
    "x_train , x_test , y_train , y_test = train_test_split(x,y, test_size=0.2 , random_state=2)\n",
    "print(x.shape , x_test.shape , x_train.shape)"
   ]
  },
  {
   "cell_type": "code",
   "execution_count": null,
   "metadata": {},
   "outputs": [],
   "source": [
    "# model training \n",
    "model = XGBRegressor()\n",
    "model.fit(x_train , y_train)"
   ]
  },
  {
   "cell_type": "markdown",
   "metadata": {},
   "source": [
    "MODEL EVALUATIOMN"
   ]
  },
  {
   "cell_type": "code",
   "execution_count": null,
   "metadata": {},
   "outputs": [],
   "source": [
    "trainPred = model.predict(x_train)\n",
    "trainPred"
   ]
  },
  {
   "cell_type": "code",
   "execution_count": null,
   "metadata": {},
   "outputs": [],
   "source": [
    "# finding the errors \n",
    "err1 = metrics.r2_score(y_train , trainPred)\n",
    "print(\"Error of the model: \" , err1)"
   ]
  },
  {
   "cell_type": "code",
   "execution_count": null,
   "metadata": {},
   "outputs": [],
   "source": [
    "testPred = model.predict(x_test)\n",
    "testPred"
   ]
  },
  {
   "cell_type": "code",
   "execution_count": null,
   "metadata": {},
   "outputs": [],
   "source": [
    "# finding the errors \n",
    "err2 = metrics.r2_score(y_test , testPred)\n",
    "print(\"Error of the model: \" , err2)"
   ]
  }
 ],
 "metadata": {
  "interpreter": {
   "hash": "4d0310b91336df3db36e190317e40238e7fecc2883b8d315e1dda669cc35f8c7"
  },
  "kernelspec": {
   "display_name": "Python 3.10.0 64-bit",
   "language": "python",
   "name": "python3"
  },
  "language_info": {
   "codemirror_mode": {
    "name": "ipython",
    "version": 3
   },
   "file_extension": ".py",
   "mimetype": "text/x-python",
   "name": "python",
   "nbconvert_exporter": "python",
   "pygments_lexer": "ipython3",
   "version": "3.10.0"
  },
  "orig_nbformat": 4
 },
 "nbformat": 4,
 "nbformat_minor": 2
}
