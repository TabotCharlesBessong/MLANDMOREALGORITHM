{
 "cells": [
  {
   "cell_type": "code",
   "execution_count": null,
   "metadata": {},
   "outputs": [],
   "source": [
    "import pandas as pd\n",
    "import numpy as np\n",
    "import matplotlib.pyplot as plt"
   ]
  },
  {
   "cell_type": "code",
   "execution_count": null,
   "metadata": {},
   "outputs": [],
   "source": [
    "legoSets = pd.read_csv(\"./datasets/lego_sets.csv\")\n",
    "legoSets.head()"
   ]
  },
  {
   "cell_type": "code",
   "execution_count": null,
   "metadata": {},
   "outputs": [],
   "source": [
    "pThemes = pd.read_csv(\"./datasets/parent_themes.csv\")\n",
    "pThemes.head()"
   ]
  },
  {
   "cell_type": "markdown",
   "metadata": {},
   "source": [
    "Task 1"
   ]
  },
  {
   "cell_type": "code",
   "execution_count": null,
   "metadata": {},
   "outputs": [],
   "source": [
    "pThemes.head()"
   ]
  },
  {
   "cell_type": "code",
   "execution_count": null,
   "metadata": {},
   "outputs": [],
   "source": [
    "mergeDf = legoSets.merge(pThemes, left_on=\"parent_theme\", right_on=\"name\")\n",
    "mergeDf.drop(columns=\"name_y\", inplace=True)\n",
    "mergeDf.head()"
   ]
  },
  {
   "cell_type": "code",
   "execution_count": null,
   "metadata": {},
   "outputs": [],
   "source": [
    "mergeDf[mergeDf[\"set_num\"].isnull()]"
   ]
  },
  {
   "cell_type": "code",
   "execution_count": null,
   "metadata": {},
   "outputs": [],
   "source": [
    "# Here we  are collecting the different legos that have licensed\n",
    "licensedDf = mergeDf[mergeDf[\"is_licensed\"]]\n",
    "licensedDf = licensedDf.dropna()\n",
    "# licensedDf.head()\n",
    "# From there , we collect those that are from star wars\n",
    "starWarsDf = licensedDf[licensedDf[\"parent_theme\"] == \"Star Wars\"]\n",
    "# starWarsDf.head(20)\n",
    "starWarsDf.shape[0]\n",
    "# let store the  force in a variable\n",
    "theForce = int(starWarsDf.shape[0] / licensedDf.shape[0] * 100)\n",
    "theForce"
   ]
  },
  {
   "cell_type": "markdown",
   "metadata": {},
   "source": [
    "TASK 2 "
   ]
  },
  {
   "cell_type": "code",
   "execution_count": null,
   "metadata": {},
   "outputs": [],
   "source": [
    "licensedDfSorted = licensedDf.sort_values(\"year\")\n",
    "licensedDfSorted[\"count\"] = 1\n",
    "licensedDfSorted.head()"
   ]
  },
  {
   "cell_type": "code",
   "execution_count": null,
   "metadata": {},
   "outputs": [],
   "source": [
    "sumYear = licensedDfSorted.groupby([\"year\", \"parent_theme\"]).sum().reset_index()\n",
    "maxDf = sumYear.sort_values(\"count\", ascending=False).drop_duplicates([\"year\"])\n",
    "maxDf.sort_values(\"year\", inplace=True)\n",
    "maxDf"
   ]
  },
  {
   "cell_type": "code",
   "execution_count": null,
   "metadata": {},
   "outputs": [],
   "source": [
    "newEra = 2017"
   ]
  }
 ],
 "metadata": {
  "interpreter": {
   "hash": "8c55cf30ac2e488415c751cb851c13fc54b927cdd5eda1552f625099936ed422"
  },
  "kernelspec": {
   "display_name": "Python 3.10.0 64-bit",
   "language": "python",
   "name": "python3"
  },
  "language_info": {
   "codemirror_mode": {
    "name": "ipython",
    "version": 3
   },
   "file_extension": ".py",
   "mimetype": "text/x-python",
   "name": "python",
   "nbconvert_exporter": "python",
   "pygments_lexer": "ipython3",
   "version": "3.11.4"
  },
  "orig_nbformat": 4
 },
 "nbformat": 4,
 "nbformat_minor": 2
}
