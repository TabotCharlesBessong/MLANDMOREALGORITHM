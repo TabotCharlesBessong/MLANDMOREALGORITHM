{
 "cells": [
  {
   "cell_type": "markdown",
   "metadata": {},
   "source": [
    "USING SCALABLE VECTOR MACHINE ALGORITHM TO PREDICT WHETHER OR NOT A BANK CUSTOMER IS ELIGIBLE TO LOAN"
   ]
  },
  {
   "cell_type": "code",
   "execution_count": null,
   "metadata": {},
   "outputs": [],
   "source": [
    "import pandas as pd \n",
    "import numpy as np \n",
    "import seaborn as sns \n",
    "from sklearn.model_selection import train_test_split \n",
    "from sklearn import svm \n",
    "from sklearn.metrics import accuracy_score"
   ]
  },
  {
   "cell_type": "code",
   "execution_count": null,
   "metadata": {},
   "outputs": [],
   "source": [
    "# Data collection and processing \n",
    "loan = pd.read_csv('loan.csv')\n",
    "loan.head()\n",
    "# loan.shape"
   ]
  },
  {
   "cell_type": "code",
   "execution_count": null,
   "metadata": {},
   "outputs": [],
   "source": [
    "loan.head(15)"
   ]
  },
  {
   "cell_type": "code",
   "execution_count": null,
   "metadata": {},
   "outputs": [],
   "source": [
    "print(loan.info())\n",
    "print(loan.describe())"
   ]
  },
  {
   "cell_type": "code",
   "execution_count": null,
   "metadata": {},
   "outputs": [],
   "source": [
    "# checking for empty values\n",
    "100 * (loan.isnull().sum()/ len(loan) )"
   ]
  },
  {
   "cell_type": "code",
   "execution_count": null,
   "metadata": {},
   "outputs": [],
   "source": [
    "# Data cleaning \n",
    "loan = loan.dropna()\n",
    "loan.isnull().sum()\n",
    "# loan.shape"
   ]
  },
  {
   "cell_type": "code",
   "execution_count": null,
   "metadata": {},
   "outputs": [],
   "source": [
    "# label encoding , \n",
    "# changing alpha to numeric \n",
    "# This can also be done with the scikit learn label encoding method\n",
    "loan.replace({'Loan_Status':{'N':0,'Y':1}},inplace=True)\n",
    "loan.head()"
   ]
  },
  {
   "cell_type": "code",
   "execution_count": null,
   "metadata": {},
   "outputs": [],
   "source": [
    "loan['Dependents'].value_counts()\n",
    "loan.replace({'Dependents':{'3+':4}},inplace=True)\n",
    "loan['Dependents'].value_counts()"
   ]
  },
  {
   "cell_type": "markdown",
   "metadata": {},
   "source": [
    "DATA VISUALISATION"
   ]
  },
  {
   "cell_type": "code",
   "execution_count": null,
   "metadata": {},
   "outputs": [],
   "source": [
    "# checking education and loan status \n",
    "sns.countplot(x = 'Education', hue='Loan_Status' , data=loan)"
   ]
  },
  {
   "cell_type": "code",
   "execution_count": null,
   "metadata": {},
   "outputs": [],
   "source": [
    "sns.countplot(x = 'Married', hue='Loan_Status' , data=loan)"
   ]
  },
  {
   "cell_type": "code",
   "execution_count": null,
   "metadata": {},
   "outputs": [],
   "source": [
    "sns.countplot(x = 'Gender', hue='Loan_Status' , data=loan)"
   ]
  },
  {
   "cell_type": "code",
   "execution_count": null,
   "metadata": {},
   "outputs": [],
   "source": [
    "# encoding some other columns through mapping \n",
    "# since it is a categorical data\n",
    "loan.replace({'Gender':{'Female':0,'Male':1}},inplace=True)\n",
    "loan.replace({'Married':{'No':0,'Yes':1}},inplace=True)\n",
    "loan.replace({'Self_Employed':{'No':0,'Yes':1}},inplace=True)\n",
    "loan.replace({'Property_Area':{'Rural':0,'Semiurban':1,'Urban':2}},inplace=True)\n",
    "loan.replace({'Education':{'Not Graduate':0,'Graduate':1}},inplace=True)\n",
    "loan.head()"
   ]
  },
  {
   "cell_type": "code",
   "execution_count": null,
   "metadata": {},
   "outputs": [],
   "source": [
    "# spliting data \n",
    "x = loan.drop(columns=['Loan_Status','Loan_ID'],axis=1)\n",
    "y = loan['Loan_Status']\n",
    "print(x,y)"
   ]
  },
  {
   "cell_type": "code",
   "execution_count": null,
   "metadata": {},
   "outputs": [],
   "source": [
    "x_train , x_test , y_train , y_test = train_test_split(x,y,test_size=0.1 , random_state=2,stratify=y)\n",
    "print(x.shape,x_train.shape, x_test.shape)"
   ]
  },
  {
   "cell_type": "code",
   "execution_count": null,
   "metadata": {},
   "outputs": [],
   "source": [
    "# Trainig the model \n",
    "classifier  = svm.SVC(kernel='linear')\n",
    "classifier.fit(x_train,y_train) "
   ]
  },
  {
   "cell_type": "code",
   "execution_count": null,
   "metadata": {},
   "outputs": [],
   "source": [
    "# Model evaluation \n",
    "trainPred = classifier.predict(x_train)\n",
    "acc1  = int(accuracy_score(trainPred,y_train) * 100 )\n",
    "print(str(acc1) + '%')"
   ]
  },
  {
   "cell_type": "code",
   "execution_count": null,
   "metadata": {},
   "outputs": [],
   "source": [
    "testPred = classifier.predict(x_test)\n",
    "acc2  = int(accuracy_score(testPred,y_test) * 100 )\n",
    "print(str(acc2) + '%')"
   ]
  },
  {
   "cell_type": "markdown",
   "metadata": {},
   "source": [
    "MAKING PREDICTIONS"
   ]
  },
  {
   "cell_type": "code",
   "execution_count": null,
   "metadata": {},
   "outputs": [],
   "source": [
    "testPred"
   ]
  },
  {
   "cell_type": "code",
   "execution_count": null,
   "metadata": {},
   "outputs": [],
   "source": []
  }
 ],
 "metadata": {
  "kernelspec": {
   "display_name": "Python 3.10.0 64-bit",
   "language": "python",
   "name": "python3"
  },
  "language_info": {
   "codemirror_mode": {
    "name": "ipython",
    "version": 3
   },
   "file_extension": ".py",
   "mimetype": "text/x-python",
   "name": "python",
   "nbconvert_exporter": "python",
   "pygments_lexer": "ipython3",
   "version": "3.10.0"
  },
  "orig_nbformat": 4,
  "vscode": {
   "interpreter": {
    "hash": "3e5eff28e1fe8eaff1ed87bdef7087dd0b80ab54a3ac8a2e96109ce025688be7"
   }
  }
 },
 "nbformat": 4,
 "nbformat_minor": 2
}
