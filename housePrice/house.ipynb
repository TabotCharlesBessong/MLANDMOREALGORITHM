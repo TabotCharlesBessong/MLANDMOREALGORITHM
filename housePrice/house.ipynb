{
 "cells": [
  {
   "cell_type": "code",
   "execution_count": null,
   "metadata": {},
   "outputs": [],
   "source": [
    "import pandas as pd \n",
    "import numpy as np \n",
    "import matplotlib.pyplot as plt\n",
    "import seaborn as sns \n",
    "import sklearn.datasets \n",
    "from sklearn.model_selection import train_test_split\n",
    "# from xgboost import XGBRegressor\n",
    "from xgboost import XGBRegressor\n",
    "from sklearn import metrics"
   ]
  },
  {
   "cell_type": "code",
   "execution_count": null,
   "metadata": {},
   "outputs": [],
   "source": [
    "housePrice = sklearn.datasets.load_boston()\n",
    "# housePrice\n",
    "houseDf = pd.DataFrame(housePrice.data,columns= housePrice.feature_names )\n",
    "houseDf.head()"
   ]
  },
  {
   "cell_type": "code",
   "execution_count": null,
   "metadata": {},
   "outputs": [],
   "source": [
    "# adding price column to the dataframe \n",
    "houseDf['Price'] = housePrice.target\n",
    "houseDf.head()\n",
    "houseDf.info()\n",
    "houseDf.describe()"
   ]
  },
  {
   "cell_type": "code",
   "execution_count": null,
   "metadata": {},
   "outputs": [],
   "source": [
    "houseDf.isnull().sum()\n",
    "houseDf.isna().sum()\n",
    "houseDf.shape"
   ]
  },
  {
   "cell_type": "markdown",
   "metadata": {},
   "source": [
    "CORRELATION"
   ]
  },
  {
   "cell_type": "code",
   "execution_count": null,
   "metadata": {},
   "outputs": [],
   "source": [
    "corr = houseDf.corr()\n",
    "# corr\n",
    "# constructing a heat map\n",
    "plt.figure(figsize=(10,10))\n",
    "sns.heatmap(corr, cbar=True,square=True,fmt='.1f',annot=True,annot_kws={'size':10},cmap = 'Greens')"
   ]
  },
  {
   "cell_type": "markdown",
   "metadata": {},
   "source": [
    "SPLITING AND TESTING DATA"
   ]
  },
  {
   "cell_type": "code",
   "execution_count": null,
   "metadata": {},
   "outputs": [],
   "source": [
    "x = houseDf.drop(['Price'],axis=1)\n",
    "y = houseDf['Price']\n",
    "# y\n",
    "x_train,x_test,y_train,y_test = train_test_split(x,y,test_size=0.2, train_size=0.8 , random_state=2)"
   ]
  },
  {
   "cell_type": "code",
   "execution_count": null,
   "metadata": {},
   "outputs": [],
   "source": [
    "model = XGBRegressor()\n",
    "model.fit(x_train,y_train)"
   ]
  },
  {
   "cell_type": "markdown",
   "metadata": {},
   "source": [
    "MODEL EVALUATION "
   ]
  },
  {
   "cell_type": "code",
   "execution_count": null,
   "metadata": {},
   "outputs": [],
   "source": [
    "trainPred = model.predict(x_train)\n",
    "# print(trainPred)\n",
    "error = int(metrics.r2_score(y_train,trainPred) * 100)\n",
    "print('error of model: ', str(error) + '%')\n",
    "error2 = int(metrics.mean_absolute_error(y_train,trainPred) * 100 )\n",
    "print('\\nabsolute error: ', str(error2) + '%\\n')"
   ]
  },
  {
   "cell_type": "code",
   "execution_count": null,
   "metadata": {},
   "outputs": [],
   "source": [
    "model1 = XGBRegressor()\n",
    "model1.fit(x_train,y_train)"
   ]
  },
  {
   "cell_type": "code",
   "execution_count": null,
   "metadata": {},
   "outputs": [],
   "source": [
    "testPred = model1.predict(x_test)\n",
    "# print(trainPred)\n",
    "error = int(metrics.r2_score(y_test,testPred) * 100)\n",
    "print('error of model: ', str(error) + '%')\n",
    "error2 = int(metrics.mean_absolute_error(y_test,testPred) * 1 )\n",
    "print('\\nabsolute error: ', str(error2) + '%\\n')"
   ]
  },
  {
   "cell_type": "code",
   "execution_count": null,
   "metadata": {},
   "outputs": [],
   "source": [
    "plt.scatter(y_train,trainPred)\n",
    "plt.xlabel('Actual Price')\n",
    "plt.ylabel('Predicted Price')\n",
    "plt.title(\"Boston Actuak house prices vs Predicted Prices\")\n",
    "plt.show()"
   ]
  }
 ],
 "metadata": {
  "kernelspec": {
   "display_name": "Python 3.10.0 64-bit",
   "language": "python",
   "name": "python3"
  },
  "language_info": {
   "codemirror_mode": {
    "name": "ipython",
    "version": 3
   },
   "file_extension": ".py",
   "mimetype": "text/x-python",
   "name": "python",
   "nbconvert_exporter": "python",
   "pygments_lexer": "ipython3",
   "version": "3.10.0"
  },
  "orig_nbformat": 4,
  "vscode": {
   "interpreter": {
    "hash": "3e5eff28e1fe8eaff1ed87bdef7087dd0b80ab54a3ac8a2e96109ce025688be7"
   }
  }
 },
 "nbformat": 4,
 "nbformat_minor": 2
}
