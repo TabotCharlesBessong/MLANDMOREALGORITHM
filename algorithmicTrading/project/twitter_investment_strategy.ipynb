{
 "cells": [
  {
   "cell_type": "code",
   "execution_count": null,
   "metadata": {},
   "outputs": [],
   "source": [
    "import pandas as pd\n",
    "import numpy as np\n",
    "import matplotlib.pyplot as plt\n",
    "import datetime as dt\n",
    "import yfinance as yf\n",
    "import os\n",
    "plt.style.use('ggplot')"
   ]
  },
  {
   "cell_type": "code",
   "execution_count": null,
   "metadata": {},
   "outputs": [],
   "source": [
    "twitter_data = pd.read_csv('../DATA/sentiment_data.csv')\n",
    "twitter_data['date'] = pd.to_datetime(twitter_data['date'])\n",
    "twitter_data = twitter_data.set_index(['date','symbol'])\n",
    "twitter_data['engagement_ratio'] = twitter_data['twitterComments'] / twitter_data['twitterLikes']\n",
    "twitter_data = twitter_data[(twitter_data['twitterLikes']>20)&(twitter_data['twitterComments']>10)]\n",
    "twitter_data"
   ]
  },
  {
   "cell_type": "markdown",
   "metadata": {},
   "source": [
    "## 2. Aggregate Monthly and calculate average sentiment for the month\n",
    "\n",
    "* Aggregate on a monthly level and calculate average monthly metric, for the one we choose."
   ]
  },
  {
   "cell_type": "code",
   "execution_count": null,
   "metadata": {},
   "outputs": [],
   "source": [
    "aggragated_data = (twitter_data.reset_index('symbol').groupby([pd.Grouper(freq='M'),'symbol'])[['engagement_ratio']].mean())\n",
    "\n",
    "aggragated_data['rank'] = (aggragated_data.groupby(level=0)['engagement_ratio'].transform(lambda x:x.rank(ascending=False)))\n",
    "\n",
    "aggragated_data"
   ]
  },
  {
   "cell_type": "markdown",
   "metadata": {},
   "source": [
    "## 3. Select Top 5 Stocks based on their cross-sectional ranking for each month\n",
    "\n",
    "* Select top 5 stocks by rank for each month and fix the date to start at beginning of next month."
   ]
  },
  {
   "cell_type": "code",
   "execution_count": null,
   "metadata": {},
   "outputs": [],
   "source": [
    "filtered_data = aggragated_data[aggragated_data['rank']<6].copy()\n",
    "filtered_data = filtered_data.reset_index(level=1)\n",
    "filtered_data.index = filtered_data.index + pd.DateOffset(1)\n",
    "filtered_data = filtered_data.reset_index().set_index(['date','symbol'])\n",
    "filtered_data.head(20)"
   ]
  },
  {
   "cell_type": "markdown",
   "metadata": {},
   "source": [
    "## 4. Extract the stocks to form portfolios with at the start of each new month\n",
    "\n",
    "* Create a dictionary containing start of month and corresponded selected stocks."
   ]
  },
  {
   "cell_type": "code",
   "execution_count": null,
   "metadata": {},
   "outputs": [],
   "source": [
    "dates = filtered_data.index.get_level_values('date').unique().tolist()\n",
    "\n",
    "fixed_dates = {}\n",
    "for d in dates:\n",
    "  fixed_dates[d.strftime('%Y-%m-%d')] = filtered_data.xs(d,level=0).index.tolist()\n",
    "  \n",
    "fixed_dates"
   ]
  },
  {
   "cell_type": "markdown",
   "metadata": {},
   "source": [
    "## 5. Download fresh stock prices for only selected/shortlisted stocks"
   ]
  },
  {
   "cell_type": "code",
   "execution_count": null,
   "metadata": {},
   "outputs": [],
   "source": [
    "stocks_list = twitter_data.index.get_level_values('symbol').unique().tolist()\n",
    "\n",
    "prices_data = yf.download(tickers=stocks_list,start='2021-01-01',end='2023-03-01')"
   ]
  },
  {
   "cell_type": "markdown",
   "metadata": {},
   "source": [
    "## 6. Calculate Portfolio Returns with monthly rebalancing"
   ]
  },
  {
   "cell_type": "code",
   "execution_count": null,
   "metadata": {},
   "outputs": [],
   "source": [
    "returns_data = np.log(prices_data['Adj Close']).diff().dropna()\n",
    "\n",
    "portfolio_data = pd.DataFrame()\n",
    "\n",
    "for start_date in fixed_dates.keys():\n",
    "  end_date = (pd.to_datetime(start_date)+pd.offsets.MonthEnd()).strftime('%Y-%m-%d')\n",
    "  \n",
    "  cols = fixed_dates[start_date]\n",
    "  \n",
    "  temp_data = returns_data[start_date:end_date][cols].mean(axis=1).to_frame('portfolio_return')\n",
    "  \n",
    "  portfolio_data = pd.concat([portfolio_data,temp_data],axis=0)\n",
    "  \n",
    "portfolio_data"
   ]
  },
  {
   "cell_type": "markdown",
   "metadata": {},
   "source": [
    "## 7. Download NASDAQ/QQQ prices and calculate returns to compare to our strategy"
   ]
  },
  {
   "cell_type": "code",
   "execution_count": null,
   "metadata": {},
   "outputs": [],
   "source": [
    "qqq_data = yf.download(tickers='QQQ',start='2021-01-01',end='2023-03-01')\n",
    "\n",
    "qqq_returns = np.log(qqq_data['Adj Close']).diff().to_frame('nasdaq_return')\n",
    "\n",
    "portfolio_data = portfolio_data.merge(qqq_returns,left_index=True,right_index=True)\n",
    "\n",
    "portfolio_data"
   ]
  },
  {
   "cell_type": "code",
   "execution_count": null,
   "metadata": {},
   "outputs": [],
   "source": [
    "import matplotlib.ticker as mtick"
   ]
  },
  {
   "cell_type": "code",
   "execution_count": null,
   "metadata": {},
   "outputs": [],
   "source": [
    "portfolios_cumulative_return = np.exp(np.log1p(portfolio_data).cumsum()).sub(1)\n",
    "\n",
    "portfolios_cumulative_return.plot(figsize=(16,6))\n",
    "\n",
    "plt.title('Twitter Engagement Ratio Strategy Return Over Time')\n",
    "\n",
    "plt.gca().yaxis.set_major_formatter(mtick.PercentFormatter(1))\n",
    "\n",
    "plt.ylabel('Return')\n",
    "\n",
    "plt.show()"
   ]
  },
  {
   "cell_type": "code",
   "execution_count": null,
   "metadata": {},
   "outputs": [],
   "source": []
  }
 ],
 "metadata": {
  "kernelspec": {
   "display_name": "Python 3",
   "language": "python",
   "name": "python3"
  },
  "language_info": {
   "codemirror_mode": {
    "name": "ipython",
    "version": 3
   },
   "file_extension": ".py",
   "mimetype": "text/x-python",
   "name": "python",
   "nbconvert_exporter": "python",
   "pygments_lexer": "ipython3",
   "version": "3.11.4"
  }
 },
 "nbformat": 4,
 "nbformat_minor": 2
}
