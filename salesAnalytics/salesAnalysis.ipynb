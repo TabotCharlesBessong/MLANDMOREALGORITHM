{
 "cells": [
  {
   "cell_type": "markdown",
   "metadata": {},
   "source": [
    "Merging 12 months of sales data into 1"
   ]
  },
  {
   "cell_type": "code",
   "execution_count": null,
   "metadata": {},
   "outputs": [],
   "source": [
    "import pandas as pd \n",
    "import numpy as np\n",
    "import matplotlib.pyplot as plt\n",
    "import os\n",
    "\n",
    "df1 = pd.read_csv('./Sales_Data/Sales_April_2019.csv')\n",
    "df1.head()"
   ]
  },
  {
   "cell_type": "markdown",
   "metadata": {},
   "source": [
    "THE CELL BELOW CONCATENATE DIFERENCT CSV FILES INTO ONE FOR EASY PROCESSING "
   ]
  },
  {
   "cell_type": "code",
   "execution_count": null,
   "metadata": {},
   "outputs": [],
   "source": [
    "files  = [file for file in os.listdir('./Sales_Data')]\n",
    "\n",
    "allMonth = pd.DataFrame()\n",
    "\n",
    "for file in files:\n",
    "  # print(file)\n",
    "  df = pd.read_csv('./Sales_Data/'+file)\n",
    "  allMonth = pd.concat([allMonth,df])\n",
    "  \n",
    "allMonth.to_csv(\"./all/allData.csv\",index=False)"
   ]
  },
  {
   "cell_type": "code",
   "execution_count": null,
   "metadata": {},
   "outputs": [],
   "source": [
    "allData = pd.read_csv('./all/allData.csv')\n",
    "allData.head()\n",
    "# allData.shape"
   ]
  },
  {
   "cell_type": "markdown",
   "metadata": {},
   "source": [
    "Cleaning Data "
   ]
  },
  {
   "cell_type": "markdown",
   "metadata": {},
   "source": [
    "What was the best month for sales and wat was the profit"
   ]
  },
  {
   "cell_type": "code",
   "execution_count": null,
   "metadata": {},
   "outputs": [],
   "source": [
    "nanDf = allData[allData.isna().any(axis=1)]\n",
    "nanDf.head()\n",
    "# nanDf.shape"
   ]
  },
  {
   "cell_type": "code",
   "execution_count": null,
   "metadata": {},
   "outputs": [],
   "source": [
    "allData = allData.dropna(how='all')"
   ]
  },
  {
   "cell_type": "code",
   "execution_count": null,
   "metadata": {},
   "outputs": [],
   "source": [
    "allData = allData[allData['Order Date'].str[0:2] != 'Or']\n",
    "# Df.head()"
   ]
  },
  {
   "cell_type": "code",
   "execution_count": null,
   "metadata": {},
   "outputs": [],
   "source": [
    "# getting the month of the in the dataset and returning it as an integer \n",
    "allData['Month'] = allData['Order Date'].str[0:2]\n",
    "allData['Month'] = allData['Month'].astype('int32')\n",
    "allData.head()\n",
    "# allData.head()"
   ]
  },
  {
   "cell_type": "markdown",
   "metadata": {},
   "source": [
    "Add sales column"
   ]
  },
  {
   "cell_type": "markdown",
   "metadata": {},
   "source": [
    "Convert column to the correct types"
   ]
  },
  {
   "cell_type": "code",
   "execution_count": null,
   "metadata": {},
   "outputs": [],
   "source": [
    "# converting the price and quantity ordered and price to numeric values for calculation\n",
    "allData['Quantity Ordered'] = pd.to_numeric(allData['Quantity Ordered'])\n",
    "allData['Price Each']  = pd.to_numeric(allData['Price Each'])\n",
    "allData.head()\n"
   ]
  },
  {
   "cell_type": "code",
   "execution_count": null,
   "metadata": {},
   "outputs": [],
   "source": [
    "allData['Sales'] = allData['Quantity Ordered'] * allData['Price Each']\n",
    "allData.head()"
   ]
  },
  {
   "cell_type": "code",
   "execution_count": null,
   "metadata": {},
   "outputs": [],
   "source": [
    "# group will categorize all other values into the choses columns , thats is as for numeric values sum all the element or values per unique values in that column \n",
    "results =  allData.groupby('Month').sum()\n",
    "results"
   ]
  },
  {
   "cell_type": "code",
   "execution_count": null,
   "metadata": {},
   "outputs": [],
   "source": [
    "months = range(1,13)\n",
    "\n",
    "plt.bar(months,results['Sales'])\n",
    "plt.xticks(months)\n",
    "plt.ylabel('Sales in USD')\n",
    "plt.xlabel('Month number')\n",
    "plt.show()"
   ]
  },
  {
   "cell_type": "markdown",
   "metadata": {},
   "source": [
    "What use City had the highest number of sales"
   ]
  },
  {
   "cell_type": "code",
   "execution_count": null,
   "metadata": {},
   "outputs": [],
   "source": [
    "def getCity(address):\n",
    "  # splitting the string by a comma and getting the second value of the newly formed list\n",
    "  return address.split(',')[1]\n",
    "\n",
    "def getState(address):\n",
    "  # splitting the string by a comma and getting the third value of the newly formed list and splitting again by spaces and getting the second value of the newly formed list\n",
    "  return address.split(',')[2].split(' ')[1]\n",
    "\n",
    "allData['Cities'] = allData['Purchase Address'].apply(lambda x : getCity(x) + ' ' + getState(x) )\n",
    "\n",
    "# allData = allData.drop(columns='Column')\n",
    "allData.head()"
   ]
  },
  {
   "cell_type": "code",
   "execution_count": null,
   "metadata": {},
   "outputs": [],
   "source": [
    "# allData['State'] = allData['Purchase Address'].apply(lambda x : x.split(',')[2])\n",
    "# allData.head()"
   ]
  },
  {
   "cell_type": "code",
   "execution_count": null,
   "metadata": {},
   "outputs": [],
   "source": [
    "allData['Sales'] = allData['Quantity Ordered'] * allData['Price Each']\n",
    "allData.head()"
   ]
  },
  {
   "cell_type": "code",
   "execution_count": null,
   "metadata": {},
   "outputs": [],
   "source": [
    "results = allData.groupby('City').sum()\n",
    "results"
   ]
  },
  {
   "cell_type": "code",
   "execution_count": null,
   "metadata": {},
   "outputs": [],
   "source": [
    "import matplotlib.pyplot as plt\n",
    "\n",
    "cities = allData['City'].unique()\n",
    "plt.bar(cities,results['Sales'])\n",
    "plt.xticks(cities , rotation='vertical', size=8)\n",
    "plt.ylabel('Sales in USD')\n",
    "plt.xlabel('Cities in The USA')\n",
    "plt.show()"
   ]
  },
  {
   "cell_type": "markdown",
   "metadata": {},
   "source": [
    "What time should we display advertisement "
   ]
  }
 ],
 "metadata": {
  "kernelspec": {
   "display_name": "Python 3.10.0 64-bit",
   "language": "python",
   "name": "python3"
  },
  "language_info": {
   "codemirror_mode": {
    "name": "ipython",
    "version": 3
   },
   "file_extension": ".py",
   "mimetype": "text/x-python",
   "name": "python",
   "nbconvert_exporter": "python",
   "pygments_lexer": "ipython3",
   "version": "3.10.0"
  },
  "orig_nbformat": 4,
  "vscode": {
   "interpreter": {
    "hash": "3e5eff28e1fe8eaff1ed87bdef7087dd0b80ab54a3ac8a2e96109ce025688be7"
   }
  }
 },
 "nbformat": 4,
 "nbformat_minor": 2
}
